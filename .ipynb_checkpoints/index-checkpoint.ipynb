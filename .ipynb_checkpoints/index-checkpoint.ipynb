{
 "cells": [
  {
   "cell_type": "markdown",
   "metadata": {},
   "source": [
    "# SQL Rank Functions\n",
    "\n",
    "## Introduction\n",
    "We will look into how to apply `RANK()`, `ROW_NUMBER()`, and `DENSE_RANK()` functions on SQL window functions.\n",
    "\n",
    "## Objectives\n",
    "- Learn how to use `RANK()`, `ROW_NUMBER()`, and `DENSE_RANK()` functions appropriately"
   ]
  },
  {
   "cell_type": "markdown",
   "metadata": {},
   "source": [
    "### What are rank functions?\n",
    "\n",
    "SQL rank functions, as the name entails, ranks rows. `ROW_NUMBER()` does just what it sounds like - it displays the number of a given row. \n",
    "`RANK()` and `DENSE_RANK()` both rank rows based on the `ORDER BY` clause. The difference between two is that `DENSE_RANK()` would consider tying records and not skip rows. Let's say two rows are tied, then both rows would get the same rank, and the next row would be next incremental number, without skipping a rank. "
   ]
  },
  {
   "cell_type": "markdown",
   "metadata": {},
   "source": [
    "### Examples\n",
    "\n",
    "Let's pull up the [db-fiddle](https://www.db-fiddle.com/) page and set up the database as `SQLite`.\n",
    "\n",
    "Insert these queries in the left panel.\n",
    "\n",
    "```\n",
    "CREATE TABLE EMPLOYEE (\n",
    "  id INTEGER PRIMARY KEY,\n",
    "  name TEXT,\n",
    "  department TEXT,\n",
    "  salary INTEGER\n",
    ");\n",
    "\n",
    "INSERT INTO EMPLOYEE VALUES (1, \"Javier\", \"IT\", 87000);\n",
    "INSERT INTO EMPLOYEE VALUES (2, \"Michael\", \"IT\", 73200);\n",
    "INSERT INTO EMPLOYEE VALUES (3, \"Jenitha\", \"HR\", 45000);\n",
    "INSERT INTO EMPLOYEE VALUES (4, \"Ross\", \"IT\", 62000);\n",
    "INSERT INTO EMPLOYEE VALUES (5, \"Scott\", \"Finance\", 52000);\n",
    "INSERT INTO EMPLOYEE VALUES (6, \"Ella\", \"Finance\", 67000);\n",
    "INSERT INTO EMPLOYEE VALUES (7, \"Adam\", \"IT\", 98000);\n",
    "INSERT INTO EMPLOYEE VALUES (8, \"Kenneth\", \"IT\", 45400);\n",
    "INSERT INTO EMPLOYEE VALUES (9, \"Mabel\", \"Finance\", 52000);\n",
    "INSERT INTO EMPLOYEE VALUES (10, \"Ellie\", \"IT\", 87000);\n",
    "INSERT INTO EMPLOYEE VALUES (11, \"Lola\", \"HR\", 57000);\n",
    "```"
   ]
  },
  {
   "cell_type": "markdown",
   "metadata": {},
   "source": [
    "We want to see who's getting paid the most by each department. From this problem, you can guess that we're partitioning the data over `department`. We want the names as well, so let's run this query below:\n",
    "```\n",
    "SELECT department, name, salary, RANK() OVER (PARTITION BY department ORDER BY salary DESC) FROM EMPLOYEE;\n",
    "```\n",
    "![rank](images/rank.png)\n",
    "\n",
    "You can see employees in the order of salary, divided by department. Look at Finance and IT - Scott and Mabel from Finance are paid the same salary, so you can see that they have the same rank. In IT, Javier and Ellie are getting paid the same, so they have rank of 2, and Michael has 4, skpping rank 3.\n",
    "\n",
    "Switch out `RANK()` with `DENSE_RANK()` from above query to see the difference. `DENSE_RANK()` would tie Javier and Ellie from IT, and Michael has rank of 3. \n",
    "\n",
    "![dense-rank](images/dense_rank.png)\n",
    "\n",
    "You'll need to choose between two functions based on how you want your application to behave.\n"
   ]
  },
  {
   "cell_type": "markdown",
   "metadata": {},
   "source": [
    "### Summary\n",
    "\n",
    "In this lesson, we went over the difference between `RANK()` and `DENSE_RANK()`. Depending on the usage of an application, we'll need to carefully choose which function to use. "
   ]
  },
  {
   "cell_type": "code",
   "execution_count": null,
   "metadata": {},
   "outputs": [],
   "source": []
  }
 ],
 "metadata": {
  "kernelspec": {
   "display_name": "Python 3",
   "language": "python",
   "name": "python3"
  },
  "language_info": {
   "codemirror_mode": {
    "name": "ipython",
    "version": 3
   },
   "file_extension": ".py",
   "mimetype": "text/x-python",
   "name": "python",
   "nbconvert_exporter": "python",
   "pygments_lexer": "ipython3",
   "version": "3.8.5"
  }
 },
 "nbformat": 4,
 "nbformat_minor": 4
}
